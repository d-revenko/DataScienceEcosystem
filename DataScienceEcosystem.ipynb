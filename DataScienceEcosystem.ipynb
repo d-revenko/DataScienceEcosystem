{
 "cells": [
  {
   "cell_type": "markdown",
   "id": "550ce5ef-cd5e-45b7-961d-650e5092edc1",
   "metadata": {},
   "source": [
    "# Data Science Tools and Ecosystem"
   ]
  },
  {
   "cell_type": "markdown",
   "id": "6c263143-79d0-49bf-9a12-8b94debc56ec",
   "metadata": {},
   "source": [
    "**Objectives:**\n",
    "- Create a Jupyter Notebook with markdown and code cells\n",
    "\n",
    "- List examples of languages, libraries and tools used in Data Science\n",
    "\n",
    "- Share your Jupyter Notebook publicly on GitHub\n",
    "\n",
    "- Evaluate notebooks submitted by your peers using the provided rubric\n",
    "\n",
    "- Demonstrate proficiency in Data Science toolkit knowledge"
   ]
  },
  {
   "cell_type": "markdown",
   "id": "1cfe74a3-1bcb-4ad9-b093-dd7185f35b6a",
   "metadata": {},
   "source": [
    "In this notebook, Data Science Tools and Ecosystem are summarized."
   ]
  },
  {
   "cell_type": "markdown",
   "id": "0f6c1cf0-9c8c-4fd6-9263-55bec13f6494",
   "metadata": {},
   "source": [
    "Some of the popular languages that Data Scientists use are:\n",
    "1. Python\n",
    "2. R\n",
    "3. SQL\n",
    "4. Scala\n",
    "5. Julia"
   ]
  },
  {
   "cell_type": "markdown",
   "id": "4cad7b73-c22e-42a6-b9f3-c7ce52b41740",
   "metadata": {},
   "source": [
    "Some of the commonly used libraries used by Data Scientists include:\n",
    "For Python:\n",
    "- NumPy\n",
    "- Pandas\n",
    "- Matplotlib\n",
    "- Seaborn\n",
    "- Scikit-lern\n",
    "- TensorFlow\n",
    "For R\n",
    "- dplyr\n",
    "- ggplot\n",
    "- tidyr\n",
    "- caret"
   ]
  },
  {
   "cell_type": "markdown",
   "id": "ebb0ba28-6ebf-4c20-a2a8-c1512de3d549",
   "metadata": {},
   "source": [
    "Data Science Tools:\n",
    "| Data Science Tools | \n",
    "| -------------|\n",
    "| Jupyter Notebook | \n",
    "| Visual Studio Code | \n",
    "| RStudio | "
   ]
  },
  {
   "cell_type": "markdown",
   "id": "170cd0b4-3375-4b74-8819-cdfd6750a51b",
   "metadata": {},
   "source": [
    "### Below are a few examples of evaluating arithmetic expressions in Python"
   ]
  },
  {
   "cell_type": "code",
   "execution_count": 7,
   "id": "9f28caaa-6872-4c6f-8f74-405dab2ee9c1",
   "metadata": {
    "tags": []
   },
   "outputs": [],
   "source": [
    "# This a simple arithmetic expression to mutiply then add integers"
   ]
  },
  {
   "cell_type": "code",
   "execution_count": 6,
   "id": "3d053c7e-65da-49df-9576-5a85cfa0bdef",
   "metadata": {
    "tags": []
   },
   "outputs": [
    {
     "data": {
      "text/plain": [
       "17"
      ]
     },
     "execution_count": 6,
     "metadata": {},
     "output_type": "execute_result"
    }
   ],
   "source": [
    "(3*4)+5"
   ]
  },
  {
   "cell_type": "code",
   "execution_count": 8,
   "id": "fab5a5ea-4709-434e-9b96-3f95d7c2321e",
   "metadata": {
    "tags": []
   },
   "outputs": [],
   "source": [
    "# This will convert 200 minutes to hours by diving by 60"
   ]
  },
  {
   "cell_type": "code",
   "execution_count": 9,
   "id": "60041cf6-8726-4588-b58d-81ce18b42b6c",
   "metadata": {
    "tags": []
   },
   "outputs": [],
   "source": [
    "hours = round(200 / 60)"
   ]
  },
  {
   "cell_type": "code",
   "execution_count": 10,
   "id": "3e75e221-8a89-4cce-b84d-8460488ea40c",
   "metadata": {
    "tags": []
   },
   "outputs": [
    {
     "name": "stdout",
     "output_type": "stream",
     "text": [
      "3\n"
     ]
    }
   ],
   "source": [
    "print (hours)"
   ]
  },
  {
   "cell_type": "markdown",
   "id": "0de2a305-fc3f-4346-abdf-fab83f235810",
   "metadata": {},
   "source": [
    "## Author: Daniel"
   ]
  }
 ],
 "metadata": {
  "kernelspec": {
   "display_name": "Python",
   "language": "python",
   "name": "conda-env-python-py"
  },
  "language_info": {
   "codemirror_mode": {
    "name": "ipython",
    "version": 3
   },
   "file_extension": ".py",
   "mimetype": "text/x-python",
   "name": "python",
   "nbconvert_exporter": "python",
   "pygments_lexer": "ipython3",
   "version": "3.7.12"
  }
 },
 "nbformat": 4,
 "nbformat_minor": 5
}
